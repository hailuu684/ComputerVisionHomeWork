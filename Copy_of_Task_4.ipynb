{
  "nbformat": 4,
  "nbformat_minor": 0,
  "metadata": {
    "colab": {
      "name": "Copy of Task 4.ipynb",
      "provenance": [],
      "collapsed_sections": []
    },
    "kernelspec": {
      "name": "python3",
      "display_name": "Python 3"
    },
    "language_info": {
      "name": "python"
    },
    "accelerator": "GPU"
  },
  "cells": [
    {
      "cell_type": "code",
      "metadata": {
        "colab": {
          "base_uri": "https://localhost:8080/"
        },
        "id": "1DHKaEahfSLA",
        "outputId": "e57943ef-2d57-4e95-d910-c84bf1a7c67e"
      },
      "source": [
        "from google.colab import drive\n",
        "drive.mount('/content/drive')\n"
      ],
      "execution_count": 38,
      "outputs": [
        {
          "output_type": "stream",
          "text": [
            "Drive already mounted at /content/drive; to attempt to forcibly remount, call drive.mount(\"/content/drive\", force_remount=True).\n"
          ],
          "name": "stdout"
        }
      ]
    },
    {
      "cell_type": "code",
      "metadata": {
        "id": "lghYsK-alZWg"
      },
      "source": [
        "semSegClasses = {  \n",
        "     0: [0, 0, 0],         # None \n",
        "     1: [70, 70, 70],      # Buildings \n",
        "     2: [190, 153, 153],   # Fences \n",
        "     3: [72, 0, 90],       # Other \n",
        "     4: [220, 20, 60],     # Pedestrians \n",
        "     5: [153, 153, 153],   # Poles \n",
        "     6: [157, 234, 50],    # RoadLines \n",
        "     7: [128, 64, 128],    # Roads \n",
        "     8: [244, 35, 232],    # Sidewalks \n",
        "     9: [107, 142, 35],    # Vegetation \n",
        "     10: [0, 0, 255],      # Vehicles \n",
        "     11: [102, 102, 156],  # Walls \n",
        "     12: [220, 220, 0]     # TrafficSigns \n",
        " } "
      ],
      "execution_count": 39,
      "outputs": []
    },
    {
      "cell_type": "code",
      "metadata": {
        "id": "bCPPDahnstQ8"
      },
      "source": [
        "from keras.models import load_model\n",
        "from tensorflow.keras.preprocessing.image import load_img,array_to_img,img_to_array\n",
        "import matplotlib.pyplot as plt\n",
        "\n",
        "import numpy as np # linear algebra\n",
        "import pandas as pd # data processing, CSV file I/O (e\n",
        "import os\n",
        "import matplotlib.pyplot as plt\n",
        "from PIL import Image\n",
        "import cv2\n",
        "from tensorflow.keras.preprocessing.image import load_img,array_to_img,img_to_array\n",
        "import skimage\n",
        "import keras"
      ],
      "execution_count": 4,
      "outputs": []
    },
    {
      "cell_type": "code",
      "metadata": {
        "colab": {
          "base_uri": "https://localhost:8080/"
        },
        "id": "chQGMK1Cs1zc",
        "outputId": "37003b04-89d2-4931-d2fc-9da71e8a45bc"
      },
      "source": [
        "%cd /content/drive/MyDrive/Colab Notebooks/Test_Segmentation/utils\n",
        "import helpers"
      ],
      "execution_count": 5,
      "outputs": [
        {
          "output_type": "stream",
          "text": [
            "/content/drive/MyDrive/Colab Notebooks/Test_Segmentation/utils\n"
          ],
          "name": "stdout"
        }
      ]
    },
    {
      "cell_type": "code",
      "metadata": {
        "id": "5M2roImZs2S7"
      },
      "source": [
        "rgb_dir='/content/drive/MyDrive/Colab Notebooks/Test_Segmentation/prof_data/rgb'\n",
        "seg_dir='/content/drive/MyDrive/Colab Notebooks/Test_Segmentation/prof_data/seg'\n",
        "\n",
        "images_path = list(sorted([ os.path.join(rgb_dir, fname) for fname in os.listdir(rgb_dir) ]))\n",
        "segmentations_path = list(sorted([ os.path.join(seg_dir, fname) for fname in os.listdir(seg_dir)]))"
      ],
      "execution_count": 6,
      "outputs": []
    },
    {
      "cell_type": "code",
      "metadata": {
        "id": "JW7Gro5Ys4PU"
      },
      "source": [
        "def get_label_info(csv_path):\n",
        "\n",
        "    filename, file_extension = os.path.splitext(csv_path)\n",
        "    if not file_extension == \".csv\":\n",
        "        return ValueError(\"File is not a CSV!\")\n",
        "\n",
        "    class_names = []\n",
        "    label_values = []\n",
        "    with open(csv_path, 'r') as csvfile:\n",
        "        file_reader = csv.reader(csvfile, delimiter=',')\n",
        "        header = next(file_reader)\n",
        "        for row in file_reader:\n",
        "            class_names.append(row[0])\n",
        "            label_values.append([int(row[1]), int(row[2]), int(row[3])])\n",
        "        # print(class_dict)\n",
        "    return class_names, label_values\n",
        "\n",
        "def one_hot_it(label, label_values):\n",
        " \n",
        "    # https://stackoverflow.com/questions/14859458/how-to-check-if-all-values-in-the-columns-of-a-numpy-matrix-are-the-same\n",
        "    semantic_map = []\n",
        "    for colour in label_values:\n",
        "        # colour_map = np.full((label.shape[0], label.shape[1], label.shape[2]), colour, dtype=int)\n",
        "        equality = np.equal(label, colour)\n",
        "        class_map = np.all(equality, axis = -1)\n",
        "        semantic_map.append(class_map)\n",
        "    semantic_map = np.stack(semantic_map, axis=-1)\n",
        "    # print(\"Time 2 = \", time.time() - st)\n",
        "\n",
        "    return semantic_map\n",
        "    \n",
        "def reverse_one_hot(image):\n",
        "\n",
        "\n",
        "    x = np.argmax(image, axis = -1)\n",
        "    return x"
      ],
      "execution_count": 7,
      "outputs": []
    },
    {
      "cell_type": "code",
      "metadata": {
        "id": "SFZwp7T4_BWD"
      },
      "source": [
        "img = cv2.imread(\"/content/drive/MyDrive/Colab Notebooks/Test_Segmentation/prof_data/rgb/00.jpg\")\n",
        "depth_img = cv2.imread(\"/content/drive/MyDrive/Colab Notebooks/Test_Segmentation/prof_data/depth/02.png\",-1)\n",
        "label_image = cv2.imread(\"/content/drive/MyDrive/Colab Notebooks/Test_Segmentation/prof_data/seg/02.png\")"
      ],
      "execution_count": 40,
      "outputs": []
    },
    {
      "cell_type": "code",
      "metadata": {
        "colab": {
          "base_uri": "https://localhost:8080/"
        },
        "id": "_pjsSSbbB_RB",
        "outputId": "737dcc52-b45e-4b80-e06e-071e27495dce"
      },
      "source": [
        "print(depth_img.max())"
      ],
      "execution_count": 41,
      "outputs": [
        {
          "output_type": "stream",
          "text": [
            "24771\n"
          ],
          "name": "stdout"
        }
      ]
    },
    {
      "cell_type": "code",
      "metadata": {
        "id": "9bJjXQIw_B4l"
      },
      "source": [
        "img = cv2.cvtColor(img,cv2.COLOR_BGR2RGB)\n",
        "label_image = cv2.cvtColor(label_image,cv2.COLOR_BGR2RGB)\n",
        "classnames,label_values = helpers.get_label_info('/content/drive/MyDrive/Colab Notebooks/Test_Segmentation/classes.csv')\n",
        "\n",
        "\n",
        "mask1 = np.float32(helpers.one_hot_it(label_image,label_values))\n",
        "mask1 = helpers.reverse_one_hot(mask1)\n",
        "mask1 = mask1.astype('float32')\n",
        "\n",
        "\n",
        "image=np.array(img)\n",
        "newimg=np.array(mask1)"
      ],
      "execution_count": 42,
      "outputs": []
    },
    {
      "cell_type": "code",
      "metadata": {
        "id": "0hZicnHHs7wc"
      },
      "source": [
        "def plotter(img,mask):\n",
        "    fig,axes=plt.subplots(1,2)\n",
        "    axes[0].imshow(img)\n",
        "    plt.imshow(mask)"
      ],
      "execution_count": 43,
      "outputs": []
    },
    {
      "cell_type": "code",
      "metadata": {
        "colab": {
          "base_uri": "https://localhost:8080/"
        },
        "id": "EPsTuJpTtPIB",
        "outputId": "34358f07-2bbc-4c4f-fe84-ebbe928ef738"
      },
      "source": [
        "print(newimg)"
      ],
      "execution_count": 45,
      "outputs": [
        {
          "output_type": "stream",
          "text": [
            "[[0. 0. 0. ... 1. 1. 1.]\n",
            " [0. 0. 0. ... 1. 1. 1.]\n",
            " [0. 0. 0. ... 1. 1. 1.]\n",
            " ...\n",
            " [7. 7. 7. ... 7. 7. 7.]\n",
            " [7. 7. 7. ... 7. 7. 7.]\n",
            " [7. 7. 7. ... 7. 7. 7.]]\n"
          ],
          "name": "stdout"
        }
      ]
    },
    {
      "cell_type": "code",
      "metadata": {
        "id": "9lw2_Q5y38zy",
        "colab": {
          "base_uri": "https://localhost:8080/"
        },
        "outputId": "ecf5a25f-fa29-4118-e9e5-c83f6eba6a57"
      },
      "source": [
        "cam_mtx = np.array([\n",
        "    [358.5, 0.0,   512.0],\n",
        "    [0.0,   358.5, 256.0],\n",
        "    [0.0,   0.0,   1.0],\n",
        "    \n",
        "])\n",
        "\n",
        "k=cam_mtx\n",
        "\n",
        "print( k[1][2])"
      ],
      "execution_count": 46,
      "outputs": [
        {
          "output_type": "stream",
          "text": [
            "256.0\n"
          ],
          "name": "stdout"
        }
      ]
    },
    {
      "cell_type": "code",
      "metadata": {
        "id": "EZ-1rCIGp_i5"
      },
      "source": [
        ""
      ],
      "execution_count": null,
      "outputs": []
    },
    {
      "cell_type": "code",
      "metadata": {
        "colab": {
          "base_uri": "https://localhost:8080/"
        },
        "id": "nBu3etj5ENEg",
        "outputId": "a9eb9442-e753-496c-ca38-0d60832cea2f"
      },
      "source": [
        "\n",
        "from numpy import asarray\n",
        "\n",
        "\n",
        "depth = asarray(depth_img)\n",
        "\n",
        "print('Data Type: %s' % depth.dtype)\n",
        "print('Min: %.3f, Max: %.3f' % (depth.min(), depth.max()))\n",
        "depth = depth.astype('float32')\n",
        "depth /= 100.0\n",
        "print('Min: %.3f, Max: %.3f' % (depth.min(), depth.max()))\n",
        "\n",
        "print(depth)"
      ],
      "execution_count": 47,
      "outputs": [
        {
          "output_type": "stream",
          "text": [
            "Data Type: uint16\n",
            "Min: 0.000, Max: 24771.000\n",
            "Min: 0.000, Max: 247.710\n",
            "[[0.   0.   0.   ... 8.69 8.68 8.66]\n",
            " [0.   0.   0.   ... 8.69 8.68 8.66]\n",
            " [0.   0.   0.   ... 8.69 8.68 8.66]\n",
            " ...\n",
            " [2.89 2.89 2.89 ... 2.89 2.89 2.89]\n",
            " [2.88 2.88 2.88 ... 2.88 2.88 2.88]\n",
            " [2.87 2.87 2.87 ... 2.87 2.87 2.87]]\n"
          ],
          "name": "stdout"
        }
      ]
    },
    {
      "cell_type": "code",
      "metadata": {
        "id": "2kn91Xen5nGV"
      },
      "source": [
        "def xy_from_depth(depth, k):\n",
        "\n",
        "   \n",
        "    # Get the shape of the depth tensor\n",
        "    sz = depth.shape\n",
        "\n",
        "    # Grab required parameters from the K matrix\n",
        "    f  = k[0][0]\n",
        "    px = k[0][2]\n",
        "    py = k[1][2]\n",
        "\n",
        "\n",
        "    \n",
        "    # Generate a grid of coordinates corresponding to the shape of the depth map\n",
        "    u, v = np.meshgrid(np.arange(1,sz[1] + 1,1), np.arange(1,sz[0] + 1,1))\n",
        "\n",
        "    # Compute x and y coordinates\n",
        "    x = ((u -px) * depth) / f\n",
        "    y = ((-v +py) * depth) / f \n",
        "\n",
        "    \n",
        "    return x, y"
      ],
      "execution_count": 48,
      "outputs": []
    },
    {
      "cell_type": "code",
      "metadata": {
        "colab": {
          "base_uri": "https://localhost:8080/"
        },
        "id": "PU0P46uDMCN1",
        "outputId": "90b66ce5-b244-46a0-e6b4-367820377536"
      },
      "source": [
        "    sz = depth.shape\n",
        "\n",
        "print(sz[0])\n",
        "\n",
        "print(sz[1])"
      ],
      "execution_count": 49,
      "outputs": [
        {
          "output_type": "stream",
          "text": [
            "512\n",
            "1024\n"
          ],
          "name": "stdout"
        }
      ]
    },
    {
      "cell_type": "code",
      "metadata": {
        "colab": {
          "base_uri": "https://localhost:8080/"
        },
        "id": "LB2DFtC-svYY",
        "outputId": "0702e74a-3dc0-4df3-cbe6-5cab83db5164"
      },
      "source": [
        "np.array(depth.max())"
      ],
      "execution_count": 50,
      "outputs": [
        {
          "output_type": "execute_result",
          "data": {
            "text/plain": [
              "array(247.71, dtype=float32)"
            ]
          },
          "metadata": {
            "tags": []
          },
          "execution_count": 50
        }
      ]
    },
    {
      "cell_type": "code",
      "metadata": {
        "id": "hjf3cwGKNfVv"
      },
      "source": [
        "k=cam_mtx\n",
        "\n",
        "z = depth\n",
        "\n",
        "\n",
        "x, y = xy_from_depth(depth, k)\n",
        "\n",
        "# print(x)\n",
        "# print(y)\n",
        "\n",
        "# print('x[250,250] = ' + str(x[250, 250]))\n",
        "# print('y[250,250] = ' + str(y[250, 250]))\n",
        "# print('z[250,250] = ' + str(z[250, 250]) + '\\n')\n",
        "\n",
        "# print('x[400,400] = ' + str(x[400, 400]))\n",
        "# print('y[400,400] = ' + str(y[400, 400]))\n",
        "# print('z[400,400] = ' + str(z[400, 400]) + '\\n')"
      ],
      "execution_count": 51,
      "outputs": []
    },
    {
      "cell_type": "code",
      "metadata": {
        "colab": {
          "base_uri": "https://localhost:8080/",
          "height": 270
        },
        "id": "nyXfemTFRaXO",
        "outputId": "d55f5806-8209-4030-daea-773d60dcfa83"
      },
      "source": [
        "# Get road mask by choosing pixels in segmentation output with value 7\n",
        "road_mask = np.zeros(newimg.shape)\n",
        "road_mask[newimg == 7] = 1\n",
        "\n",
        "\n",
        "\n",
        "plt.imshow(road_mask,cmap='gray')\n",
        "\n",
        "\n",
        "x_ground = x[road_mask == 1]\n",
        "y_ground = y[road_mask == 1]\n",
        "z_ground = z[road_mask == 1]\n",
        "xyz_ground = np.stack((x_ground, y_ground, z_ground))\n",
        "\n",
        "\n",
        "\n",
        "print(x_ground.min())\n",
        "print(y_ground.min())\n",
        "print(z_ground.min())\n"
      ],
      "execution_count": 52,
      "outputs": [
        {
          "output_type": "stream",
          "text": [
            "-16.263235626859146\n",
            "-4.255732324831655\n",
            "2.87\n"
          ],
          "name": "stdout"
        },
        {
          "output_type": "display_data",
          "data": {
            "image/png": "[encoded data removed]",
            "text/plain": [
              "<Figure size 432x288 with 1 Axes>"
            ]
          },
          "metadata": {
            "tags": [],
            "needs_background": "light"
          }
        }
      ]
    },
    {
      "cell_type": "code",
      "metadata": {
        "id": "KvOWnb-fm7vC"
      },
      "source": [
        "def compute_plane(xyz):\n",
        "    \"\"\"\n",
        "    Computes plane coefficients a,b,c,d of the plane in the form ax+by+cz+d = 0\n",
        "    Arguments:\n",
        "    xyz -- tensor of dimension (3, N), contains points needed to fit plane.\n",
        "    k -- tensor of dimension (3x3), the intrinsic camera matrix\n",
        "    Returns:\n",
        "    p -- tensor of dimension (1, 4) containing the plane parameters a,b,c,d\n",
        "    \"\"\"\n",
        "    ctr = xyz.mean(axis=1)\n",
        "    normalized = xyz - ctr[:, np.newaxis]\n",
        "    M = np.dot(normalized, normalized.T)\n",
        "\n",
        "    p = np.linalg.svd(M)[0][:, -1]\n",
        "    d = np.matmul(p, ctr)\n",
        "\n",
        "    p = np.append(p, -d)\n",
        "\n",
        "    # Correct plane\n",
        "    # p = [0.0, 1.0, 0.0, -1.5]\n",
        "    return p\n",
        "\n",
        "\n",
        "def dist_to_plane(plane, x, y, z):\n",
        "    \"\"\"\n",
        "    Computes distance between points provided by their x, and y, z coordinates\n",
        "    and a plane in the form ax+by+cz+d = 0\n",
        "    Arguments:\n",
        "    plane -- tensor of dimension (4,1), containing the plane parameters [a,b,c,d]\n",
        "    x -- tensor of dimension (Nx1), containing the x coordinates of the points\n",
        "    y -- tensor of dimension (Nx1), containing the y coordinates of the points\n",
        "    z -- tensor of dimension (Nx1), containing the z coordinates of the points\n",
        "    Returns:\n",
        "    distance -- tensor of dimension (N, 1) containing the distance between points and the plane\n",
        "    \"\"\"\n",
        "    a, b, c, d = plane\n",
        "\n",
        "    return (a * x + b * y + c * z + d) / np.sqrt(a**2 + b**2 + c**2)"
      ],
      "execution_count": 53,
      "outputs": []
    },
    {
      "cell_type": "code",
      "metadata": {
        "id": "3xqU14d5QQ6-"
      },
      "source": [
        ""
      ],
      "execution_count": null,
      "outputs": []
    },
    {
      "cell_type": "code",
      "metadata": {
        "id": "LSP4YOsIdQ-n"
      },
      "source": [
        "def ransac_plane_fit(xyz_data):\n",
        "\n",
        "    \n",
        "  # Set thresholds:\n",
        "    num_itr = 100  # RANSAC maximum number of iterations\n",
        "    min_num_inliers = 45000 # RANSAC minimum number of inliers\n",
        "    distance_threshold =0.1  # Maximum distance from point to plane for point to be considered inlier\n",
        "    max_inliers=0\n",
        "    data_size=xyz_data.shape[1]\n",
        "       \n",
        "    for i in range(num_itr):\n",
        "        # Step 1: Choose a minimum of 3 points from xyz_data at random.\n",
        "        rand_index = np.random.choice(data_size, 3, replace=False)\n",
        "        rand_points = xyz_data[:, rand_index]\n",
        "        \n",
        "        # Step 2: Compute plane model\n",
        "        p = compute_plane(rand_points)\n",
        "        \n",
        "        # Step 3: Find number of inliers\n",
        "        dist = np.abs(dist_to_plane(p, xyz_data[0,:], xyz_data[1,:], xyz_data[2,:]))\n",
        "        n_inliers = np.sum(dist < distance_threshold)\n",
        "        \n",
        "        # Step 4: Check if the current number of inliers is greater than all previous iterations and keep the inlier set with the largest number of points.\n",
        "        if  max_inliers < n_inliers:\n",
        "            max_inliers = n_inliers\n",
        "            inlier_set = xyz_data[:, dist <distance_threshold]\n",
        "\n",
        "            #   if num_inliers > final_num_inliers:\n",
        "            # final_num_inliers = num_inliers\n",
        "            \n",
        "        # Step 5: Check if stopping criterion is satisfied and break.         \n",
        "        if max_inliers > min_num_inliers:\n",
        "            break\n",
        "        \n",
        "    # Step 6: Recompute the model parameters using largest inlier set.\n",
        "    output_plane = compute_plane(inlier_set)\n",
        "\n",
        "    ### END CODE HERE ###\n",
        "    \n",
        "    return output_plane"
      ],
      "execution_count": 54,
      "outputs": []
    },
    {
      "cell_type": "code",
      "metadata": {
        "colab": {
          "base_uri": "https://localhost:8080/"
        },
        "id": "i-F-GZC2dcir",
        "outputId": "ec89f184-2590-496e-a370-a52236acd952"
      },
      "source": [
        "p_final = ransac_plane_fit(xyz_ground)\n",
        "print('Ground Plane: ' + str(p_final))"
      ],
      "execution_count": 55,
      "outputs": [
        {
          "output_type": "stream",
          "text": [
            "Ground Plane: [-3.48231243e-05  9.99913343e-01  1.31645094e-02  2.00960529e+00]\n"
          ],
          "name": "stdout"
        }
      ]
    },
    {
      "cell_type": "code",
      "metadata": {
        "colab": {
          "base_uri": "https://localhost:8080/",
          "height": 354
        },
        "id": "fLFtQvlBfF-q",
        "outputId": "9c6408f8-434d-4c57-d59a-d2289f6c5ef4"
      },
      "source": [
        "dist = np.abs(dist_to_plane(p_final, x, y, z))\n",
        "\n",
        "ground_mask = np.zeros(dist.shape)\n",
        "print(dist.max())\n",
        "ground_mask[dist < 0.1] = 1\n",
        "ground_mask[dist > 0.1] = 0\n",
        "\n",
        "print(x.max())\n",
        "print(y.max())\n",
        "print(z.max())\n",
        "print(x.min())\n",
        "print(y.min())\n",
        "print(z.min())\n",
        "\n",
        "plt.imshow(ground_mask,cmap='gray')\n",
        "\n",
        "ground_mask.shape"
      ],
      "execution_count": 88,
      "outputs": [
        {
          "output_type": "stream",
          "text": [
            "25.07830599535363\n",
            "63.63280202953386\n",
            "20.739916174980387\n",
            "247.71\n",
            "-128.79765777375076\n",
            "-4.828340282998823\n",
            "0.0\n"
          ],
          "name": "stdout"
        },
        {
          "output_type": "execute_result",
          "data": {
            "text/plain": [
              "(512, 1024)"
            ]
          },
          "metadata": {
            "tags": []
          },
          "execution_count": 88
        },
        {
          "output_type": "display_data",
          "data": {
            "image/png": "[encoded data removed]",
            "text/plain": [
              "<Figure size 432x288 with 1 Axes>"
            ]
          },
          "metadata": {
            "tags": [],
            "needs_background": "light"
          }
        }
      ]
    },
    {
      "cell_type": "code",
      "metadata": {
        "colab": {
          "base_uri": "https://localhost:8080/"
        },
        "id": "lXondkqylm0d",
        "outputId": "27b53662-7a51-4c79-ba20-00aaa741de73"
      },
      "source": [
        "%cd /content/drive/MyDrive/Colab Notebooks/Test_Segmentation/prof_data/"
      ],
      "execution_count": 78,
      "outputs": [
        {
          "output_type": "stream",
          "text": [
            "/content/drive/MyDrive/Colab Notebooks/Test_Segmentation/prof_data\n"
          ],
          "name": "stdout"
        }
      ]
    },
    {
      "cell_type": "code",
      "metadata": {
        "colab": {
          "base_uri": "https://localhost:8080/"
        },
        "id": "5i3SsMdxlqOn",
        "outputId": "0e625d1f-6b14-48f4-db77-f9a0c5b0769f"
      },
      "source": [
        "!ls"
      ],
      "execution_count": 79,
      "outputs": [
        {
          "output_type": "stream",
          "text": [
            "'Copy of img1.png'   newimg.png        rgb   umetrics\n",
            " depth\t\t     reshape_img.png   seg\n"
          ],
          "name": "stdout"
        }
      ]
    },
    {
      "cell_type": "code",
      "metadata": {
        "colab": {
          "base_uri": "https://localhost:8080/",
          "height": 236
        },
        "id": "zspbJFSQmDTB",
        "outputId": "1c9e08e3-39ce-4249-97c7-23913fbd20ab"
      },
      "source": [
        "Fs=cv2.imread(\"/content/drive/MyDrive/Colab Notebooks/Test_Segmentation/prof_data/seg/fs_02.png\")\n",
        "\n",
        "plt.imshow(Fs)\n",
        "\n"
      ],
      "execution_count": 61,
      "outputs": [
        {
          "output_type": "execute_result",
          "data": {
            "text/plain": [
              "<matplotlib.image.AxesImage at 0x7f2a15692f50>"
            ]
          },
          "metadata": {
            "tags": []
          },
          "execution_count": 61
        },
        {
          "output_type": "display_data",
          "data": {
            "image/png": "[encoded data removed]",
            "text/plain": [
              "<Figure size 432x288 with 1 Axes>"
            ]
          },
          "metadata": {
            "tags": [],
            "needs_background": "light"
          }
        }
      ]
    },
    {
      "cell_type": "code",
      "metadata": {
        "id": "WM8s_uGymmcy"
      },
      "source": [
        "Fs=true\n",
        "prediction = ground_mask"
      ],
      "execution_count": 94,
      "outputs": []
    },
    {
      "cell_type": "code",
      "metadata": {
        "id": "aloZfDUb7bsF"
      },
      "source": [
        "truth = Fs[:, :, 0]\n"
      ],
      "execution_count": 101,
      "outputs": []
    },
    {
      "cell_type": "code",
      "metadata": {
        "colab": {
          "base_uri": "https://localhost:8080/"
        },
        "id": "Eo0O5ioJ6Ed_",
        "outputId": "41cf3e61-5d77-4212-8e16-1ca90c51ea75"
      },
      "source": [
        "Fs.shape"
      ],
      "execution_count": 97,
      "outputs": [
        {
          "output_type": "execute_result",
          "data": {
            "text/plain": [
              "(512, 1024, 3)"
            ]
          },
          "metadata": {
            "tags": []
          },
          "execution_count": 97
        }
      ]
    },
    {
      "cell_type": "code",
      "metadata": {
        "colab": {
          "base_uri": "https://localhost:8080/"
        },
        "id": "e_a6caRM7gq1",
        "outputId": "50a4b02b-eb1e-4929-9ccf-929e8c09d1ea"
      },
      "source": [
        "NewFs.shape"
      ],
      "execution_count": 99,
      "outputs": [
        {
          "output_type": "execute_result",
          "data": {
            "text/plain": [
              "(512, 1024)"
            ]
          },
          "metadata": {
            "tags": []
          },
          "execution_count": 99
        }
      ]
    },
    {
      "cell_type": "code",
      "metadata": {
        "id": "mndPfZET2Gl8"
      },
      "source": [
        "true = cv2.imread(\"/content/drive/MyDrive/Colab Notebooks/Test_Segmentation/prof_data/seg/02.png\")\n",
        "prediction = newimg\n"
      ],
      "execution_count": 100,
      "outputs": []
    },
    {
      "cell_type": "code",
      "metadata": {
        "id": "jpWPUpv4kkW1"
      },
      "source": [
        "from keras.metrics import MeanIoU\n",
        "num_classes = 2\n",
        "IOU_keras = MeanIoU(num_classes=num_classes)  \n",
        "IOU_keras.update_state(truth, prediction)\n",
        "print(\"Mean IoU =\", IOU_keras.result().numpy())\n",
        "\n",
        "\n",
        "# #To calculate I0U for each class...\n",
        "# values = np.array(IOU_keras.get_weights()).reshape(num_classes, num_classes)\n",
        "# print(values)\n",
        "# class1_IoU = values[1,1]/(values[1,1] + values[1,2] + values[1,3] + values[1,4] + values[2,1]+ values[3,1]+ values[4,1])\n",
        "# class2_IoU = values[2,2]/(values[2,2] + values[2,1] + values[2,1] + values[2,3] + values[1,2]+ values[3,2]+ values[4,2])\n",
        "\n",
        "\n"
      ],
      "execution_count": null,
      "outputs": []
    },
    {
      "cell_type": "code",
      "metadata": {
        "id": "nVeqmikI4TJZ"
      },
      "source": [
        "%cd /content/drive/MyDrive/Colab Notebooks/Test_segmentation/prof_data\n"
      ],
      "execution_count": null,
      "outputs": []
    },
    {
      "cell_type": "code",
      "metadata": {
        "colab": {
          "base_uri": "https://localhost:8080/"
        },
        "id": "b-7r4i7w4kxU",
        "outputId": "9fb666be-751b-4625-cf47-ed55a4e5a607"
      },
      "source": [
        "!ls"
      ],
      "execution_count": 85,
      "outputs": [
        {
          "output_type": "stream",
          "text": [
            "'Copy of img1.png'   newimg.png        rgb   seg_metrics.py\n",
            " depth\t\t     reshape_img.png   seg   umetrics\n"
          ],
          "name": "stdout"
        }
      ]
    },
    {
      "cell_type": "code",
      "metadata": {
        "colab": {
          "base_uri": "https://localhost:8080/"
        },
        "id": "n9b1FOP99T6Y",
        "outputId": "95c5e75f-ef15-487b-ab04-d72c4021452d"
      },
      "source": [
        "print(ground_mask)"
      ],
      "execution_count": 127,
      "outputs": [
        {
          "output_type": "stream",
          "text": [
            "[[0. 0. 0. ... 0. 0. 0.]\n",
            " [0. 0. 0. ... 0. 0. 0.]\n",
            " [0. 0. 0. ... 0. 0. 0.]\n",
            " ...\n",
            " [1. 1. 1. ... 1. 1. 1.]\n",
            " [1. 1. 1. ... 1. 1. 1.]\n",
            " [1. 1. 1. ... 1. 1. 1.]]\n"
          ],
          "name": "stdout"
        }
      ]
    },
    {
      "cell_type": "code",
      "metadata": {
        "colab": {
          "base_uri": "https://localhost:8080/",
          "height": 363
        },
        "id": "fJZ_acAy9co5",
        "outputId": "9494c51f-cc39-4b3b-875f-73739c09b94a"
      },
      "source": [
        "cv2.imshow(prediction)\n",
        "\n",
        "plt.imshow(prediction)"
      ],
      "execution_count": 123,
      "outputs": [
        {
          "output_type": "error",
          "ename": "DisabledFunctionError",
          "evalue": "ignored",
          "traceback": [
            "\u001b[0;31m---------------------------------------------------------------------------\u001b[0m",
            "\u001b[0;31mDisabledFunctionError\u001b[0m                     Traceback (most recent call last)",
            "\u001b[0;32m<ipython-input-123-ef7725355276>\u001b[0m in \u001b[0;36m<module>\u001b[0;34m()\u001b[0m\n\u001b[0;32m----> 1\u001b[0;31m \u001b[0mcv2\u001b[0m\u001b[0;34m.\u001b[0m\u001b[0mimshow\u001b[0m\u001b[0;34m(\u001b[0m\u001b[0mprediction\u001b[0m\u001b[0;34m)\u001b[0m\u001b[0;34m\u001b[0m\u001b[0;34m\u001b[0m\u001b[0m\n\u001b[0m\u001b[1;32m      2\u001b[0m \u001b[0;34m\u001b[0m\u001b[0m\n\u001b[1;32m      3\u001b[0m \u001b[0mplt\u001b[0m\u001b[0;34m.\u001b[0m\u001b[0mimshow\u001b[0m\u001b[0;34m(\u001b[0m\u001b[0mprediction\u001b[0m\u001b[0;34m)\u001b[0m\u001b[0;34m\u001b[0m\u001b[0;34m\u001b[0m\u001b[0m\n",
            "\u001b[0;32m/usr/local/lib/python3.7/dist-packages/google/colab/_import_hooks/_cv2.py\u001b[0m in \u001b[0;36mwrapped\u001b[0;34m(*args, **kwargs)\u001b[0m\n\u001b[1;32m     50\u001b[0m   \u001b[0;32mdef\u001b[0m \u001b[0mwrapped\u001b[0m\u001b[0;34m(\u001b[0m\u001b[0;34m*\u001b[0m\u001b[0margs\u001b[0m\u001b[0;34m,\u001b[0m \u001b[0;34m**\u001b[0m\u001b[0mkwargs\u001b[0m\u001b[0;34m)\u001b[0m\u001b[0;34m:\u001b[0m\u001b[0;34m\u001b[0m\u001b[0;34m\u001b[0m\u001b[0m\n\u001b[1;32m     51\u001b[0m     \u001b[0;32mif\u001b[0m \u001b[0;32mnot\u001b[0m \u001b[0mos\u001b[0m\u001b[0;34m.\u001b[0m\u001b[0menviron\u001b[0m\u001b[0;34m.\u001b[0m\u001b[0mget\u001b[0m\u001b[0;34m(\u001b[0m\u001b[0menv_var\u001b[0m\u001b[0;34m,\u001b[0m \u001b[0;32mFalse\u001b[0m\u001b[0;34m)\u001b[0m\u001b[0;34m:\u001b[0m\u001b[0;34m\u001b[0m\u001b[0;34m\u001b[0m\u001b[0m\n\u001b[0;32m---> 52\u001b[0;31m       \u001b[0;32mraise\u001b[0m \u001b[0mDisabledFunctionError\u001b[0m\u001b[0;34m(\u001b[0m\u001b[0mmessage\u001b[0m\u001b[0;34m,\u001b[0m \u001b[0mname\u001b[0m \u001b[0;32mor\u001b[0m \u001b[0mfunc\u001b[0m\u001b[0;34m.\u001b[0m\u001b[0m__name__\u001b[0m\u001b[0;34m)\u001b[0m\u001b[0;34m\u001b[0m\u001b[0;34m\u001b[0m\u001b[0m\n\u001b[0m\u001b[1;32m     53\u001b[0m     \u001b[0;32mreturn\u001b[0m \u001b[0mfunc\u001b[0m\u001b[0;34m(\u001b[0m\u001b[0;34m*\u001b[0m\u001b[0margs\u001b[0m\u001b[0;34m,\u001b[0m \u001b[0;34m**\u001b[0m\u001b[0mkwargs\u001b[0m\u001b[0;34m)\u001b[0m\u001b[0;34m\u001b[0m\u001b[0;34m\u001b[0m\u001b[0m\n\u001b[1;32m     54\u001b[0m \u001b[0;34m\u001b[0m\u001b[0m\n",
            "\u001b[0;31mDisabledFunctionError\u001b[0m: cv2.imshow() is disabled in Colab, because it causes Jupyter sessions\nto crash; see https://github.com/jupyter/notebook/issues/3935.\nAs a substitution, consider using\n  from google.colab.patches import cv2_imshow\n"
          ]
        }
      ]
    },
    {
      "cell_type": "code",
      "metadata": {
        "colab": {
          "base_uri": "https://localhost:8080/",
          "height": 162
        },
        "id": "Mb4rENeX-B9Z",
        "outputId": "f1ed9644-f1cd-49c6-8341-1311ce4cf066"
      },
      "source": [
        "cv2.imwrite('/content/drive/MyDrive/Colab Notebooks/Test_segmentation/prof_data/prediction.png,prediction.png')"
      ],
      "execution_count": 120,
      "outputs": [
        {
          "output_type": "error",
          "ename": "TypeError",
          "evalue": "ignored",
          "traceback": [
            "\u001b[0;31m---------------------------------------------------------------------------\u001b[0m",
            "\u001b[0;31mTypeError\u001b[0m                                 Traceback (most recent call last)",
            "\u001b[0;32m<ipython-input-120-5bc57104e800>\u001b[0m in \u001b[0;36m<module>\u001b[0;34m()\u001b[0m\n\u001b[0;32m----> 1\u001b[0;31m \u001b[0mcv2\u001b[0m\u001b[0;34m.\u001b[0m\u001b[0mimwrite\u001b[0m\u001b[0;34m(\u001b[0m\u001b[0;34m'/content/drive/MyDrive/Colab Notebooks/Test_segmentation/prof_data/prediction.png,prediction.png'\u001b[0m\u001b[0;34m)\u001b[0m\u001b[0;34m\u001b[0m\u001b[0;34m\u001b[0m\u001b[0m\n\u001b[0m",
            "\u001b[0;31mTypeError\u001b[0m: imwrite() missing required argument 'img' (pos 2)"
          ]
        }
      ]
    },
    {
      "cell_type": "code",
      "metadata": {
        "colab": {
          "base_uri": "https://localhost:8080/",
          "height": 236
        },
        "id": "eL6I9Z3V_POp",
        "outputId": "5adf4c00-8e9b-4dbb-e9aa-eb7603235596"
      },
      "source": [
        "plt.imshow(ground_mask)"
      ],
      "execution_count": 119,
      "outputs": [
        {
          "output_type": "execute_result",
          "data": {
            "text/plain": [
              "<matplotlib.image.AxesImage at 0x7f2a09f43cd0>"
            ]
          },
          "metadata": {
            "tags": []
          },
          "execution_count": 119
        },
        {
          "output_type": "display_data",
          "data": {
            "image/png": "[encoded data removed]",
            "text/plain": [
              "<Figure size 432x288 with 1 Axes>"
            ]
          },
          "metadata": {
            "tags": [],
            "needs_background": "light"
          }
        }
      ]
    },
    {
      "cell_type": "code",
      "metadata": {
        "colab": {
          "base_uri": "https://localhost:8080/"
        },
        "id": "q7_3wxjo9Vgq",
        "outputId": "5e0b4b79-69cb-416d-860d-dea89fe8a121"
      },
      "source": [
        "print(prediction)"
      ],
      "execution_count": 113,
      "outputs": [
        {
          "output_type": "stream",
          "text": [
            "[[0. 0. 0. ... 1. 1. 1.]\n",
            " [0. 0. 0. ... 1. 1. 1.]\n",
            " [0. 0. 0. ... 1. 1. 1.]\n",
            " ...\n",
            " [7. 7. 7. ... 7. 7. 7.]\n",
            " [7. 7. 7. ... 7. 7. 7.]\n",
            " [7. 7. 7. ... 7. 7. 7.]]\n"
          ],
          "name": "stdout"
        }
      ]
    },
    {
      "cell_type": "code",
      "metadata": {
        "colab": {
          "base_uri": "https://localhost:8080/",
          "height": 354
        },
        "id": "1wQY-Lxt5kIU",
        "outputId": "05184a5c-aa89-4032-d89c-51b617b01352"
      },
      "source": [
        "\n",
        "import seg_metrics\n",
        "\n",
        "seg_metrics.mean_dice(truth,prediction)#,'iou',mean_per_class=True)"
      ],
      "execution_count": 106,
      "outputs": [
        {
          "output_type": "error",
          "ename": "InvalidArgumentError",
          "evalue": "ignored",
          "traceback": [
            "\u001b[0;31m---------------------------------------------------------------------------\u001b[0m",
            "\u001b[0;31mInvalidArgumentError\u001b[0m                      Traceback (most recent call last)",
            "\u001b[0;32m<ipython-input-106-f36a2d810f3d>\u001b[0m in \u001b[0;36m<module>\u001b[0;34m()\u001b[0m\n\u001b[1;32m      2\u001b[0m \u001b[0;32mimport\u001b[0m \u001b[0mseg_metrics\u001b[0m\u001b[0;34m\u001b[0m\u001b[0;34m\u001b[0m\u001b[0m\n\u001b[1;32m      3\u001b[0m \u001b[0;34m\u001b[0m\u001b[0m\n\u001b[0;32m----> 4\u001b[0;31m \u001b[0mseg_metrics\u001b[0m\u001b[0;34m.\u001b[0m\u001b[0mmean_dice\u001b[0m\u001b[0;34m(\u001b[0m\u001b[0mtruth\u001b[0m\u001b[0;34m,\u001b[0m\u001b[0mprediction\u001b[0m\u001b[0;34m)\u001b[0m\u001b[0;31m#,'iou',mean_per_class=True)\u001b[0m\u001b[0;34m\u001b[0m\u001b[0;34m\u001b[0m\u001b[0m\n\u001b[0m",
            "\u001b[0;32m/content/drive/My Drive/Colab Notebooks/Test_Segmentation/prof_data/seg_metrics.py\u001b[0m in \u001b[0;36mmean_dice\u001b[0;34m(y_true, y_pred, **kwargs)\u001b[0m\n\u001b[1;32m    226\u001b[0m     \u001b[0mCalls\u001b[0m \u001b[0mmetrics_k\u001b[0m\u001b[0;34m(\u001b[0m\u001b[0my_true\u001b[0m\u001b[0;34m,\u001b[0m \u001b[0my_pred\u001b[0m\u001b[0;34m,\u001b[0m \u001b[0mmetric_name\u001b[0m\u001b[0;34m=\u001b[0m\u001b[0;34m'iou'\u001b[0m\u001b[0;34m)\u001b[0m\u001b[0;34m,\u001b[0m \u001b[0msee\u001b[0m \u001b[0mthere\u001b[0m \u001b[0;32mfor\u001b[0m \u001b[0mallowed\u001b[0m \u001b[0mkwargs\u001b[0m\u001b[0;34m.\u001b[0m\u001b[0;34m\u001b[0m\u001b[0;34m\u001b[0m\u001b[0m\n\u001b[1;32m    227\u001b[0m     \"\"\"\n\u001b[0;32m--> 228\u001b[0;31m     \u001b[0;32mreturn\u001b[0m \u001b[0mseg_metrics\u001b[0m\u001b[0;34m(\u001b[0m\u001b[0my_true\u001b[0m\u001b[0;34m,\u001b[0m \u001b[0my_pred\u001b[0m\u001b[0;34m,\u001b[0m \u001b[0mmetric_name\u001b[0m\u001b[0;34m=\u001b[0m\u001b[0;34m'dice'\u001b[0m\u001b[0;34m,\u001b[0m \u001b[0;34m**\u001b[0m\u001b[0mkwargs\u001b[0m\u001b[0;34m)\u001b[0m\u001b[0;34m\u001b[0m\u001b[0;34m\u001b[0m\u001b[0m\n\u001b[0m",
            "\u001b[0;32m/content/drive/My Drive/Colab Notebooks/Test_Segmentation/prof_data/seg_metrics.py\u001b[0m in \u001b[0;36mseg_metrics\u001b[0;34m(y_true, y_pred, metric_name, metric_type, drop_last, mean_per_class, verbose)\u001b[0m\n\u001b[1;32m    174\u001b[0m     \u001b[0;31m# intersection and union shapes are batch_size * n_classes (values = area in pixels)\u001b[0m\u001b[0;34m\u001b[0m\u001b[0;34m\u001b[0m\u001b[0;34m\u001b[0m\u001b[0m\n\u001b[1;32m    175\u001b[0m     \u001b[0maxes\u001b[0m \u001b[0;34m=\u001b[0m \u001b[0;34m(\u001b[0m\u001b[0;36m1\u001b[0m\u001b[0;34m,\u001b[0m \u001b[0;36m2\u001b[0m\u001b[0;34m)\u001b[0m  \u001b[0;31m# W,H axes of each image\u001b[0m\u001b[0;34m\u001b[0m\u001b[0;34m\u001b[0m\u001b[0m\n\u001b[0;32m--> 176\u001b[0;31m     \u001b[0mintersection\u001b[0m \u001b[0;34m=\u001b[0m \u001b[0mK\u001b[0m\u001b[0;34m.\u001b[0m\u001b[0msum\u001b[0m\u001b[0;34m(\u001b[0m\u001b[0mK\u001b[0m\u001b[0;34m.\u001b[0m\u001b[0mabs\u001b[0m\u001b[0;34m(\u001b[0m\u001b[0my_true\u001b[0m \u001b[0;34m*\u001b[0m \u001b[0my_pred\u001b[0m\u001b[0;34m)\u001b[0m\u001b[0;34m,\u001b[0m \u001b[0maxis\u001b[0m\u001b[0;34m=\u001b[0m\u001b[0maxes\u001b[0m\u001b[0;34m)\u001b[0m\u001b[0;34m\u001b[0m\u001b[0;34m\u001b[0m\u001b[0m\n\u001b[0m\u001b[1;32m    177\u001b[0m     \u001b[0mmask_sum\u001b[0m \u001b[0;34m=\u001b[0m \u001b[0mK\u001b[0m\u001b[0;34m.\u001b[0m\u001b[0msum\u001b[0m\u001b[0;34m(\u001b[0m\u001b[0mK\u001b[0m\u001b[0;34m.\u001b[0m\u001b[0mabs\u001b[0m\u001b[0;34m(\u001b[0m\u001b[0my_true\u001b[0m\u001b[0;34m)\u001b[0m\u001b[0;34m,\u001b[0m \u001b[0maxis\u001b[0m\u001b[0;34m=\u001b[0m\u001b[0maxes\u001b[0m\u001b[0;34m)\u001b[0m \u001b[0;34m+\u001b[0m \u001b[0mK\u001b[0m\u001b[0;34m.\u001b[0m\u001b[0msum\u001b[0m\u001b[0;34m(\u001b[0m\u001b[0mK\u001b[0m\u001b[0;34m.\u001b[0m\u001b[0mabs\u001b[0m\u001b[0;34m(\u001b[0m\u001b[0my_pred\u001b[0m\u001b[0;34m)\u001b[0m\u001b[0;34m,\u001b[0m \u001b[0maxis\u001b[0m\u001b[0;34m=\u001b[0m\u001b[0maxes\u001b[0m\u001b[0;34m)\u001b[0m\u001b[0;34m\u001b[0m\u001b[0;34m\u001b[0m\u001b[0m\n\u001b[1;32m    178\u001b[0m     \u001b[0munion\u001b[0m \u001b[0;34m=\u001b[0m \u001b[0mmask_sum\u001b[0m \u001b[0;34m-\u001b[0m \u001b[0mintersection\u001b[0m  \u001b[0;31m# or, np.logical_or(y_pred, y_true) for one-hot\u001b[0m\u001b[0;34m\u001b[0m\u001b[0;34m\u001b[0m\u001b[0m\n",
            "\u001b[0;32m/usr/local/lib/python3.7/dist-packages/tensorflow/python/util/dispatch.py\u001b[0m in \u001b[0;36mwrapper\u001b[0;34m(*args, **kwargs)\u001b[0m\n\u001b[1;32m    199\u001b[0m     \u001b[0;34m\"\"\"Call target, and fall back on dispatchers if there is a TypeError.\"\"\"\u001b[0m\u001b[0;34m\u001b[0m\u001b[0;34m\u001b[0m\u001b[0m\n\u001b[1;32m    200\u001b[0m     \u001b[0;32mtry\u001b[0m\u001b[0;34m:\u001b[0m\u001b[0;34m\u001b[0m\u001b[0;34m\u001b[0m\u001b[0m\n\u001b[0;32m--> 201\u001b[0;31m       \u001b[0;32mreturn\u001b[0m \u001b[0mtarget\u001b[0m\u001b[0;34m(\u001b[0m\u001b[0;34m*\u001b[0m\u001b[0margs\u001b[0m\u001b[0;34m,\u001b[0m \u001b[0;34m**\u001b[0m\u001b[0mkwargs\u001b[0m\u001b[0;34m)\u001b[0m\u001b[0;34m\u001b[0m\u001b[0;34m\u001b[0m\u001b[0m\n\u001b[0m\u001b[1;32m    202\u001b[0m     \u001b[0;32mexcept\u001b[0m \u001b[0;34m(\u001b[0m\u001b[0mTypeError\u001b[0m\u001b[0;34m,\u001b[0m \u001b[0mValueError\u001b[0m\u001b[0;34m)\u001b[0m\u001b[0;34m:\u001b[0m\u001b[0;34m\u001b[0m\u001b[0;34m\u001b[0m\u001b[0m\n\u001b[1;32m    203\u001b[0m       \u001b[0;31m# Note: convert_to_eager_tensor currently raises a ValueError, not a\u001b[0m\u001b[0;34m\u001b[0m\u001b[0;34m\u001b[0m\u001b[0;34m\u001b[0m\u001b[0m\n",
            "\u001b[0;32m/usr/local/lib/python3.7/dist-packages/tensorflow/python/keras/backend.py\u001b[0m in \u001b[0;36msum\u001b[0;34m(x, axis, keepdims)\u001b[0m\n\u001b[1;32m   2217\u001b[0m       \u001b[0mA\u001b[0m \u001b[0mtensor\u001b[0m \u001b[0;32mwith\u001b[0m \u001b[0msum\u001b[0m \u001b[0mof\u001b[0m\u001b[0;31m \u001b[0m\u001b[0;31m`\u001b[0m\u001b[0mx\u001b[0m\u001b[0;31m`\u001b[0m\u001b[0;34m.\u001b[0m\u001b[0;34m\u001b[0m\u001b[0;34m\u001b[0m\u001b[0m\n\u001b[1;32m   2218\u001b[0m   \"\"\"\n\u001b[0;32m-> 2219\u001b[0;31m   \u001b[0;32mreturn\u001b[0m \u001b[0mmath_ops\u001b[0m\u001b[0;34m.\u001b[0m\u001b[0mreduce_sum\u001b[0m\u001b[0;34m(\u001b[0m\u001b[0mx\u001b[0m\u001b[0;34m,\u001b[0m \u001b[0maxis\u001b[0m\u001b[0;34m,\u001b[0m \u001b[0mkeepdims\u001b[0m\u001b[0;34m)\u001b[0m\u001b[0;34m\u001b[0m\u001b[0;34m\u001b[0m\u001b[0m\n\u001b[0m\u001b[1;32m   2220\u001b[0m \u001b[0;34m\u001b[0m\u001b[0m\n\u001b[1;32m   2221\u001b[0m \u001b[0;34m\u001b[0m\u001b[0m\n",
            "\u001b[0;32m/usr/local/lib/python3.7/dist-packages/tensorflow/python/util/dispatch.py\u001b[0m in \u001b[0;36mwrapper\u001b[0;34m(*args, **kwargs)\u001b[0m\n\u001b[1;32m    199\u001b[0m     \u001b[0;34m\"\"\"Call target, and fall back on dispatchers if there is a TypeError.\"\"\"\u001b[0m\u001b[0;34m\u001b[0m\u001b[0;34m\u001b[0m\u001b[0m\n\u001b[1;32m    200\u001b[0m     \u001b[0;32mtry\u001b[0m\u001b[0;34m:\u001b[0m\u001b[0;34m\u001b[0m\u001b[0;34m\u001b[0m\u001b[0m\n\u001b[0;32m--> 201\u001b[0;31m       \u001b[0;32mreturn\u001b[0m \u001b[0mtarget\u001b[0m\u001b[0;34m(\u001b[0m\u001b[0;34m*\u001b[0m\u001b[0margs\u001b[0m\u001b[0;34m,\u001b[0m \u001b[0;34m**\u001b[0m\u001b[0mkwargs\u001b[0m\u001b[0;34m)\u001b[0m\u001b[0;34m\u001b[0m\u001b[0;34m\u001b[0m\u001b[0m\n\u001b[0m\u001b[1;32m    202\u001b[0m     \u001b[0;32mexcept\u001b[0m \u001b[0;34m(\u001b[0m\u001b[0mTypeError\u001b[0m\u001b[0;34m,\u001b[0m \u001b[0mValueError\u001b[0m\u001b[0;34m)\u001b[0m\u001b[0;34m:\u001b[0m\u001b[0;34m\u001b[0m\u001b[0;34m\u001b[0m\u001b[0m\n\u001b[1;32m    203\u001b[0m       \u001b[0;31m# Note: convert_to_eager_tensor currently raises a ValueError, not a\u001b[0m\u001b[0;34m\u001b[0m\u001b[0;34m\u001b[0m\u001b[0;34m\u001b[0m\u001b[0m\n",
            "\u001b[0;32m/usr/local/lib/python3.7/dist-packages/tensorflow/python/ops/math_ops.py\u001b[0m in \u001b[0;36mreduce_sum\u001b[0;34m(input_tensor, axis, keepdims, name)\u001b[0m\n\u001b[1;32m   2042\u001b[0m \u001b[0;34m\u001b[0m\u001b[0m\n\u001b[1;32m   2043\u001b[0m   return reduce_sum_with_dims(input_tensor, axis, keepdims, name,\n\u001b[0;32m-> 2044\u001b[0;31m                               _ReductionDims(input_tensor, axis))\n\u001b[0m\u001b[1;32m   2045\u001b[0m \u001b[0;34m\u001b[0m\u001b[0m\n\u001b[1;32m   2046\u001b[0m \u001b[0;34m\u001b[0m\u001b[0m\n",
            "\u001b[0;32m/usr/local/lib/python3.7/dist-packages/tensorflow/python/ops/math_ops.py\u001b[0m in \u001b[0;36mreduce_sum_with_dims\u001b[0;34m(input_tensor, axis, keepdims, name, dims)\u001b[0m\n\u001b[1;32m   2053\u001b[0m   return _may_reduce_to_scalar(\n\u001b[1;32m   2054\u001b[0m       \u001b[0mkeepdims\u001b[0m\u001b[0;34m,\u001b[0m \u001b[0maxis\u001b[0m\u001b[0;34m,\u001b[0m\u001b[0;34m\u001b[0m\u001b[0;34m\u001b[0m\u001b[0m\n\u001b[0;32m-> 2055\u001b[0;31m       gen_math_ops._sum(input_tensor, dims, keepdims, name=name))\n\u001b[0m\u001b[1;32m   2056\u001b[0m \u001b[0;34m\u001b[0m\u001b[0m\n\u001b[1;32m   2057\u001b[0m \u001b[0;34m\u001b[0m\u001b[0m\n",
            "\u001b[0;32m/usr/local/lib/python3.7/dist-packages/tensorflow/python/ops/gen_math_ops.py\u001b[0m in \u001b[0;36m_sum\u001b[0;34m(input, axis, keep_dims, name)\u001b[0m\n\u001b[1;32m  10376\u001b[0m     \u001b[0;32mtry\u001b[0m\u001b[0;34m:\u001b[0m\u001b[0;34m\u001b[0m\u001b[0;34m\u001b[0m\u001b[0m\n\u001b[1;32m  10377\u001b[0m       return _sum_eager_fallback(\n\u001b[0;32m> 10378\u001b[0;31m           input, axis, keep_dims=keep_dims, name=name, ctx=_ctx)\n\u001b[0m\u001b[1;32m  10379\u001b[0m     \u001b[0;32mexcept\u001b[0m \u001b[0m_core\u001b[0m\u001b[0;34m.\u001b[0m\u001b[0m_SymbolicException\u001b[0m\u001b[0;34m:\u001b[0m\u001b[0;34m\u001b[0m\u001b[0;34m\u001b[0m\u001b[0m\n\u001b[1;32m  10380\u001b[0m       \u001b[0;32mpass\u001b[0m  \u001b[0;31m# Add nodes to the TensorFlow graph.\u001b[0m\u001b[0;34m\u001b[0m\u001b[0;34m\u001b[0m\u001b[0m\n",
            "\u001b[0;32m/usr/local/lib/python3.7/dist-packages/tensorflow/python/ops/gen_math_ops.py\u001b[0m in \u001b[0;36m_sum_eager_fallback\u001b[0;34m(input, axis, keep_dims, name, ctx)\u001b[0m\n\u001b[1;32m  10408\u001b[0m   \u001b[0m_attrs\u001b[0m \u001b[0;34m=\u001b[0m \u001b[0;34m(\u001b[0m\u001b[0;34m\"keep_dims\"\u001b[0m\u001b[0;34m,\u001b[0m \u001b[0mkeep_dims\u001b[0m\u001b[0;34m,\u001b[0m \u001b[0;34m\"T\"\u001b[0m\u001b[0;34m,\u001b[0m \u001b[0m_attr_T\u001b[0m\u001b[0;34m,\u001b[0m \u001b[0;34m\"Tidx\"\u001b[0m\u001b[0;34m,\u001b[0m \u001b[0m_attr_Tidx\u001b[0m\u001b[0;34m)\u001b[0m\u001b[0;34m\u001b[0m\u001b[0;34m\u001b[0m\u001b[0m\n\u001b[1;32m  10409\u001b[0m   _result = _execute.execute(b\"Sum\", 1, inputs=_inputs_flat, attrs=_attrs,\n\u001b[0;32m> 10410\u001b[0;31m                              ctx=ctx, name=name)\n\u001b[0m\u001b[1;32m  10411\u001b[0m   \u001b[0;32mif\u001b[0m \u001b[0m_execute\u001b[0m\u001b[0;34m.\u001b[0m\u001b[0mmust_record_gradient\u001b[0m\u001b[0;34m(\u001b[0m\u001b[0;34m)\u001b[0m\u001b[0;34m:\u001b[0m\u001b[0;34m\u001b[0m\u001b[0;34m\u001b[0m\u001b[0m\n\u001b[1;32m  10412\u001b[0m     _execute.record_gradient(\n",
            "\u001b[0;32m/usr/local/lib/python3.7/dist-packages/tensorflow/python/eager/execute.py\u001b[0m in \u001b[0;36mquick_execute\u001b[0;34m(op_name, num_outputs, inputs, attrs, ctx, name)\u001b[0m\n\u001b[1;32m     58\u001b[0m     \u001b[0mctx\u001b[0m\u001b[0;34m.\u001b[0m\u001b[0mensure_initialized\u001b[0m\u001b[0;34m(\u001b[0m\u001b[0;34m)\u001b[0m\u001b[0;34m\u001b[0m\u001b[0;34m\u001b[0m\u001b[0m\n\u001b[1;32m     59\u001b[0m     tensors = pywrap_tfe.TFE_Py_Execute(ctx._handle, device_name, op_name,\n\u001b[0;32m---> 60\u001b[0;31m                                         inputs, attrs, num_outputs)\n\u001b[0m\u001b[1;32m     61\u001b[0m   \u001b[0;32mexcept\u001b[0m \u001b[0mcore\u001b[0m\u001b[0;34m.\u001b[0m\u001b[0m_NotOkStatusException\u001b[0m \u001b[0;32mas\u001b[0m \u001b[0me\u001b[0m\u001b[0;34m:\u001b[0m\u001b[0;34m\u001b[0m\u001b[0;34m\u001b[0m\u001b[0m\n\u001b[1;32m     62\u001b[0m     \u001b[0;32mif\u001b[0m \u001b[0mname\u001b[0m \u001b[0;32mis\u001b[0m \u001b[0;32mnot\u001b[0m \u001b[0;32mNone\u001b[0m\u001b[0;34m:\u001b[0m\u001b[0;34m\u001b[0m\u001b[0;34m\u001b[0m\u001b[0m\n",
            "\u001b[0;31mInvalidArgumentError\u001b[0m: Invalid reduction dimension (2 for input with 2 dimension(s) [Op:Sum]"
          ]
        }
      ]
    },
    {
      "cell_type": "code",
      "metadata": {
        "colab": {
          "base_uri": "https://localhost:8080/"
        },
        "id": "JpInmILt74DL",
        "outputId": "ca82851e-670d-47eb-9325-da26ae2de498"
      },
      "source": [
        "prediction.shape"
      ],
      "execution_count": 105,
      "outputs": [
        {
          "output_type": "execute_result",
          "data": {
            "text/plain": [
              "(512, 1024)"
            ]
          },
          "metadata": {
            "tags": []
          },
          "execution_count": 105
        }
      ]
    },
    {
      "cell_type": "code",
      "metadata": {
        "id": "e558LGbJxCgR"
      },
      "source": [
        "import umetrics\n",
        "from skimage.io import imread\n",
        "\n",
        "y_true = truth\n",
        "y_pred = prediction\n",
        "\n",
        "\n",
        "# can now make the calculation strict, by only considering objects that have\n",
        "# an IoU above a theshold as being true positives\n",
        "result = umetrics.calculate(y_true, y_pred, strict=True, iou_threshold=0.5)\n",
        "\n",
        "print(result.results)"
      ],
      "execution_count": null,
      "outputs": []
    },
    {
      "cell_type": "code",
      "metadata": {
        "colab": {
          "base_uri": "https://localhost:8080/"
        },
        "id": "fWsCcUBexdm3",
        "outputId": "d513f8f3-2634-42e8-a86b-d0419fd64dde"
      },
      "source": [
        "!pip install umetrics"
      ],
      "execution_count": 76,
      "outputs": [
        {
          "output_type": "stream",
          "text": [
            "\u001b[31mERROR: Could not find a version that satisfies the requirement umetrics (from versions: none)\u001b[0m\n",
            "\u001b[31mERROR: No matching distribution found for umetrics\u001b[0m\n"
          ],
          "name": "stdout"
        }
      ]
    },
    {
      "cell_type": "code",
      "metadata": {
        "id": "OvvGns-g824J"
      },
      "source": [
        ""
      ],
      "execution_count": null,
      "outputs": []
    },
    {
      "cell_type": "code",
      "metadata": {
        "id": "FzqFmq7dqUql"
      },
      "source": [
        "from keras import backend as K\n",
        "def iou_coef(truth, prediction, smooth=1):\n",
        "  intersection = K.sum(K.abs(truth * prediction), axis=[1,2,3])\n",
        "  union = K.sum(truth,[1,2,3])+K.sum(prediction,[1,2,3])-intersection\n",
        "  iou = K.mean((intersection + smooth) / (union + smooth), axis=0)\n",
        "  return iou"
      ],
      "execution_count": 110,
      "outputs": []
    },
    {
      "cell_type": "code",
      "metadata": {
        "id": "uoCrbG9O8cZG"
      },
      "source": [
        "print(iou_coef(truth,prediction))"
      ],
      "execution_count": null,
      "outputs": []
    },
    {
      "cell_type": "code",
      "metadata": {
        "colab": {
          "base_uri": "https://localhost:8080/",
          "height": 229
        },
        "id": "WVc5EWz0BPd2",
        "outputId": "afc88acc-f0ee-40eb-bd6e-95285930803c"
      },
      "source": [
        "from PIL import Image\n",
        "import numpy as np\n",
        "\n",
        "w, h = 512, 1024\n",
        "ground_mask = np.zeros((h, w, 3), dtype=np.uint8)\n",
        "ground_mask[0:256, 0:256] = [255, 0, 0] # red patch in upper left\n",
        "img = Image.fromarray(data, 'RGB')\n",
        "img.save('my.png')\n",
        "img.show()"
      ],
      "execution_count": 128,
      "outputs": [
        {
          "output_type": "error",
          "ename": "NameError",
          "evalue": "ignored",
          "traceback": [
            "\u001b[0;31m---------------------------------------------------------------------------\u001b[0m",
            "\u001b[0;31mNameError\u001b[0m                                 Traceback (most recent call last)",
            "\u001b[0;32m<ipython-input-128-2ee76262873f>\u001b[0m in \u001b[0;36m<module>\u001b[0;34m()\u001b[0m\n\u001b[1;32m      5\u001b[0m \u001b[0mground_mask\u001b[0m \u001b[0;34m=\u001b[0m \u001b[0mnp\u001b[0m\u001b[0;34m.\u001b[0m\u001b[0mzeros\u001b[0m\u001b[0;34m(\u001b[0m\u001b[0;34m(\u001b[0m\u001b[0mh\u001b[0m\u001b[0;34m,\u001b[0m \u001b[0mw\u001b[0m\u001b[0;34m,\u001b[0m \u001b[0;36m3\u001b[0m\u001b[0;34m)\u001b[0m\u001b[0;34m,\u001b[0m \u001b[0mdtype\u001b[0m\u001b[0;34m=\u001b[0m\u001b[0mnp\u001b[0m\u001b[0;34m.\u001b[0m\u001b[0muint8\u001b[0m\u001b[0;34m)\u001b[0m\u001b[0;34m\u001b[0m\u001b[0;34m\u001b[0m\u001b[0m\n\u001b[1;32m      6\u001b[0m \u001b[0mground_mask\u001b[0m\u001b[0;34m[\u001b[0m\u001b[0;36m0\u001b[0m\u001b[0;34m:\u001b[0m\u001b[0;36m256\u001b[0m\u001b[0;34m,\u001b[0m \u001b[0;36m0\u001b[0m\u001b[0;34m:\u001b[0m\u001b[0;36m256\u001b[0m\u001b[0;34m]\u001b[0m \u001b[0;34m=\u001b[0m \u001b[0;34m[\u001b[0m\u001b[0;36m255\u001b[0m\u001b[0;34m,\u001b[0m \u001b[0;36m0\u001b[0m\u001b[0;34m,\u001b[0m \u001b[0;36m0\u001b[0m\u001b[0;34m]\u001b[0m \u001b[0;31m# red patch in upper left\u001b[0m\u001b[0;34m\u001b[0m\u001b[0;34m\u001b[0m\u001b[0m\n\u001b[0;32m----> 7\u001b[0;31m \u001b[0mimg\u001b[0m \u001b[0;34m=\u001b[0m \u001b[0mImage\u001b[0m\u001b[0;34m.\u001b[0m\u001b[0mfromarray\u001b[0m\u001b[0;34m(\u001b[0m\u001b[0mdata\u001b[0m\u001b[0;34m,\u001b[0m \u001b[0;34m'RGB'\u001b[0m\u001b[0;34m)\u001b[0m\u001b[0;34m\u001b[0m\u001b[0;34m\u001b[0m\u001b[0m\n\u001b[0m\u001b[1;32m      8\u001b[0m \u001b[0mimg\u001b[0m\u001b[0;34m.\u001b[0m\u001b[0msave\u001b[0m\u001b[0;34m(\u001b[0m\u001b[0;34m'my.png'\u001b[0m\u001b[0;34m)\u001b[0m\u001b[0;34m\u001b[0m\u001b[0;34m\u001b[0m\u001b[0m\n\u001b[1;32m      9\u001b[0m \u001b[0mimg\u001b[0m\u001b[0;34m.\u001b[0m\u001b[0mshow\u001b[0m\u001b[0;34m(\u001b[0m\u001b[0;34m)\u001b[0m\u001b[0;34m\u001b[0m\u001b[0;34m\u001b[0m\u001b[0m\n",
            "\u001b[0;31mNameError\u001b[0m: name 'data' is not defined"
          ]
        }
      ]
    },
    {
      "cell_type": "code",
      "metadata": {
        "id": "7bWgLpwiCfbS"
      },
      "source": [
        "Pred=reverse_one_hot(ground_mask)"
      ],
      "execution_count": 129,
      "outputs": []
    },
    {
      "cell_type": "code",
      "metadata": {
        "colab": {
          "base_uri": "https://localhost:8080/"
        },
        "id": "s3sfQpldCnWz",
        "outputId": "6ac671de-b94a-45be-89af-3acff7074d3d"
      },
      "source": [
        "print(Pred.max())"
      ],
      "execution_count": 132,
      "outputs": [
        {
          "output_type": "stream",
          "text": [
            "0\n"
          ],
          "name": "stdout"
        }
      ]
    }
  ]
}